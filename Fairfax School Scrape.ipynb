{
 "cells": [
  {
   "cell_type": "code",
   "execution_count": 1,
   "metadata": {
    "scrolled": true
   },
   "outputs": [
    {
     "name": "stdout",
     "output_type": "stream",
     "text": [
      "\n",
      "9\n",
      "\n"
     ]
    }
   ],
   "source": [
    "import requests\n",
    "from bs4 import BeautifulSoup\n",
    "import pandas\n",
    "\n",
    "r=requests.get(\"https://www.greatschools.org/virginia/falls-church/fairfax-county-public-schools/schools/\")\n",
    "c=r.content\n",
    "soup=BeautifulSoup(c,\"html.parser\")\n",
    "all=soup.find_all(\"div\",{\"class\":\"pvm gs-bootstrap js-schoolSearchResult js-schoolSearchResultCompareErrorMessage\"})\n",
    "page_nr=soup.find_all(\"li\",{\"class\":\"page\"})[-1].text\n",
    "print(page_nr)"
   ]
  },
  {
   "cell_type": "code",
   "execution_count": 2,
   "metadata": {},
   "outputs": [
    {
     "data": {
      "text/plain": [
       "'Cooper Middle School'"
      ]
     },
     "execution_count": 2,
     "metadata": {},
     "output_type": "execute_result"
    }
   ],
   "source": [
    "all[0].find(\"a\", {\"class\",\"open-sans_sb mbs font-size-medium rs-schoolName\"}).text"
   ]
  },
  {
   "cell_type": "code",
   "execution_count": 3,
   "metadata": {},
   "outputs": [
    {
     "name": "stdout",
     "output_type": "stream",
     "text": [
      "https://www.greatschools.org/virginia/falls-church/fairfax-county-public-schools/schools/?page=1\n",
      "https://www.greatschools.org/virginia/falls-church/fairfax-county-public-schools/schools/?page=2\n",
      "https://www.greatschools.org/virginia/falls-church/fairfax-county-public-schools/schools/?page=3\n",
      "https://www.greatschools.org/virginia/falls-church/fairfax-county-public-schools/schools/?page=4\n",
      "https://www.greatschools.org/virginia/falls-church/fairfax-county-public-schools/schools/?page=5\n",
      "https://www.greatschools.org/virginia/falls-church/fairfax-county-public-schools/schools/?page=6\n",
      "https://www.greatschools.org/virginia/falls-church/fairfax-county-public-schools/schools/?page=7\n",
      "https://www.greatschools.org/virginia/falls-church/fairfax-county-public-schools/schools/?page=8\n",
      "https://www.greatschools.org/virginia/falls-church/fairfax-county-public-schools/schools/?page=9\n"
     ]
    }
   ],
   "source": [
    "l=[]\n",
    "base_url=\"https://www.greatschools.org/virginia/falls-church/fairfax-county-public-schools/schools/?page=\"\n",
    "for page in range(1,10,1):\n",
    "    print(base_url+str(page))\n",
    "    r=requests.get(base_url+str(page))\n",
    "    c=r.content\n",
    "    soup=BeautifulSoup(c,\"html.parser\")\n",
    "    all=soup.find_all(\"div\",{\"class\":\"pvm gs-bootstrap js-schoolSearchResult js-schoolSearchResultCompareErrorMessage\"})\n",
    "\n",
    "    for item in all:\n",
    "        d={}\n",
    "        d[\"Name\"]=item.find(\"a\", {\"class\":\"open-sans_sb mbs font-size-medium rs-schoolName\"}).text\n",
    "        d[\"Address\"]=item.find(\"div\",{\"class\":\"hidden-xs font-size-small rs-schoolAddress\"}).text\n",
    "        d[\"Type\"]=item.find(\"div\",{\"class\":\"prs fl\"}).text\n",
    "        d[\"Grades\"]=item.find_all(\"div\",{\"class\":\"fl\"})[3].text\n",
    "        try:\n",
    "            d[\"Rating\"]=item.find(\"div\",{\"class\":\"col-xs-6 col-sm-4 mvl tac\"}).text.replace(\" \",\"\").replace(\"\\n\",\"\").replace(\"GreatSchoolsRating\",\"\")\n",
    "        except:\n",
    "            d[\"Rating\"]=None\n",
    "            \n",
    "        l.append(d)\n",
    "\n",
    "import pandas\n",
    "df=pandas.DataFrame(l)\n",
    "df.to_csv(\"Fairfax_Schools.csv\")"
   ]
  },
  {
   "cell_type": "code",
   "execution_count": null,
   "metadata": {},
   "outputs": [],
   "source": []
  }
 ],
 "metadata": {
  "kernelspec": {
   "display_name": "Python 3",
   "language": "python",
   "name": "python3"
  },
  "language_info": {
   "codemirror_mode": {
    "name": "ipython",
    "version": 3
   },
   "file_extension": ".py",
   "mimetype": "text/x-python",
   "name": "python",
   "nbconvert_exporter": "python",
   "pygments_lexer": "ipython3",
   "version": "3.6.2"
  }
 },
 "nbformat": 4,
 "nbformat_minor": 2
}
